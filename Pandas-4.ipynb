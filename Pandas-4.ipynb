{
  "nbformat": 4,
  "nbformat_minor": 0,
  "metadata": {
    "colab": {
      "provenance": [],
      "authorship_tag": "ABX9TyOX+3T4sE0Uf0Hz3dVT8I8E",
      "include_colab_link": true
    },
    "kernelspec": {
      "name": "python3",
      "display_name": "Python 3"
    },
    "language_info": {
      "name": "python"
    }
  },
  "cells": [
    {
      "cell_type": "markdown",
      "metadata": {
        "id": "view-in-github",
        "colab_type": "text"
      },
      "source": [
        "<a href=\"https://colab.research.google.com/github/Yashasvi-30/AmazonClone/blob/main/Pandas-4.ipynb\" target=\"_parent\"><img src=\"https://colab.research.google.com/assets/colab-badge.svg\" alt=\"Open In Colab\"/></a>"
      ]
    },
    {
      "cell_type": "code",
      "execution_count": null,
      "metadata": {
        "id": "Pul2lxKektso"
      },
      "outputs": [],
      "source": [
        "import pandas as pd\n",
        "\n",
        "# Load data in various formats\n",
        "# Replace 'data.csv' and 'data.xlsx' with your dataset paths\n",
        "try:\n",
        "    csv_data = pd.read_csv('data.csv')  # Load CSV file\n",
        "    print(\"\\nCSV Data Loaded Successfully:\")\n",
        "    print(csv_data.head())\n",
        "\n",
        "    excel_data = pd.read_excel('data.xlsx')  # Load Excel file\n",
        "    print(\"\\nExcel Data Loaded Successfully:\")\n",
        "    print(excel_data.head())\n",
        "except FileNotFoundError:\n",
        "    print(\"\\nReplace 'data.csv' and 'data.xlsx' with actual file paths!\")\n",
        "\n",
        "# Using a simulated DataFrame for further steps\n",
        "data = pd.DataFrame({\n",
        "    'Name': ['Alice', 'Bob', 'Charlie', 'David', 'Eve'],\n",
        "    'Age': [24, 27, 22, 32, 29],\n",
        "    'Score': [85.5, 78.2, 92.3, 88.0, None],\n",
        "    'Category': ['A', 'B', 'A', 'B', 'C']\n",
        "})\n",
        "print(\"\\nSimulated DataFrame:\\n\", data)\n",
        "\n",
        "# Exploring DataFrame attributes\n",
        "print(\"\\nDataFrame Attributes:\")\n",
        "print(\"Shape:\", data.shape)\n",
        "print(\"Columns:\", data.columns)\n",
        "print(\"Data Types:\\n\", data.dtypes)\n",
        "print(\"\\nFirst Few Rows:\\n\", data.head())\n",
        "print(\"\\nLast Few Rows:\\n\", data.tail())\n",
        "print(\"\\nData Info:\")\n",
        "print(data.info())\n",
        "print(\"\\nData Description:\")\n",
        "print(data.describe())\n",
        "\n",
        "# Selecting columns and rows\n",
        "print(\"\\nSelecting Columns and Rows:\")\n",
        "print(\"Selecting 'Age' column:\\n\", data['Age'])\n",
        "print(\"Selecting multiple columns:\\n\", data[['Name', 'Score']])\n",
        "print(\"Selecting rows by index (iloc):\\n\", data.iloc[1:4])\n",
        "print(\"Selecting rows by condition (loc):\\n\", data.loc[data['Age'] > 25])\n"
      ]
    },
    {
      "cell_type": "code",
      "source": [
        "import numpy as np\n",
        "\n",
        "# Identifying missing values\n",
        "print(\"\\nIdentifying Missing Values:\")\n",
        "print(\"Is Null:\\n\", data.isnull())\n",
        "print(\"Missing Value Count:\\n\", data.isnull().sum())\n",
        "\n",
        "# Handling missing values\n",
        "print(\"\\nHandling Missing Values:\")\n",
        "data_filled = data.copy()\n",
        "data_filled['Score'].fillna(data['Score'].mean(), inplace=True)  # Fill with mean\n",
        "print(\"Filled Missing Values with Mean:\\n\", data_filled)\n",
        "\n",
        "data_dropped = data.copy().dropna()  # Drop rows with missing values\n",
        "print(\"Dropped Rows with Missing Values:\\n\", data_dropped)\n",
        "\n",
        "data_interpolated = data.copy()\n",
        "data_interpolated['Score'] = data_interpolated['Score'].interpolate()  # Interpolate\n",
        "print(\"Interpolated Missing Values:\\n\", data_interpolated)\n",
        "\n",
        "# Scaling techniques\n",
        "print(\"\\nScaling Techniques:\")\n",
        "\n",
        "# Min-Max Scaling\n",
        "min_max_scaled = data_filled.copy()\n",
        "min_max_scaled['Age'] = (data_filled['Age'] - data_filled['Age'].min()) / \\\n",
        "                        (data_filled['Age'].max() - data_filled['Age'].min())\n",
        "print(\"Min-Max Scaled Data:\\n\", min_max_scaled)\n",
        "\n",
        "# Z-Score Standardization\n",
        "z_score_scaled = data_filled.copy()\n",
        "z_score_scaled['Age'] = (data_filled['Age'] - data_filled['Age'].mean()) / data_filled['Age'].std()\n",
        "print(\"Z-Score Scaled Data:\\n\", z_score_scaled)\n",
        "\n",
        "# Creating dummy variables for categorical columns\n",
        "print(\"\\nCreating Dummy Variables:\")\n",
        "data_with_dummies = pd.get_dummies(data, columns=['Category'], drop_first=True)\n",
        "print(\"Data with Dummy Variables:\\n\", data_with_dummies)\n"
      ],
      "metadata": {
        "id": "yNUYNHollV02"
      },
      "execution_count": null,
      "outputs": []
    }
  ]
}